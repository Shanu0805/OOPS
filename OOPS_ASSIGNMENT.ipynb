{
  "cells": [
    {
      "cell_type": "markdown",
      "metadata": {
        "id": "wgP1K1Z0mNVp"
      },
      "source": [
        "# Theory Questions"
      ]
    },
    {
      "cell_type": "markdown",
      "metadata": {
        "id": "50uVIHvVmNVy"
      },
      "source": [
        "1. **What is Object-Oriented Programming (OOP)?**\n",
        "- OOPS is the programe in which cerated a object first , in which they contain data/attributs and functions/methods in the concept of OOPS it allows reusability ,abstractions,modulity.\n",
        "\n",
        "2. **What is a class in OOP?**\n",
        "- Class is the main the object under which we cerate sub-class objects . and it define the behaviour and structure of such sub-class from which class it related\n",
        "\n",
        "3. **What is an object in OOP?**\n",
        "- An object is an instance of a class. It has its own data and can use the methods defined in the class. Object in class the like sub-class of such class we can recall it.\n",
        "\n",
        "4. **What is the difference between Abstraction and Encapsulation?**\n",
        "- **Abstraction** : it this it hide the complex implementations(unneed details) like backend details and exposing the required details like seeing only inerface\n",
        "- **Encapsulation** : bundling of data and method of class , use of access modifier - pubic , private , protected\n",
        "\n",
        "5. **What are dunder methods in Python?**\n",
        "- Dunder method are the methods define by built-in classes in python ,class define these type of method for cerating custom objects and data for every object.\n",
        "\n",
        "6. **Explain the concept of Inheritance in OOP.**\n",
        "- It refers to process of child reciving the proerty of parent class.\n",
        "\n",
        "7. **What is Polymorphism in OOP?**\n",
        "- It refers to an object taking servel from depending on the method/data, function taking different form with respect to different data passed.\n",
        "\n",
        "8. **How is encapsulation achieved in Python?**\n",
        "- **Public** : means access data and method from inside or outside the class.\n",
        "- **private** : means access data and method from only within the class(__).\n",
        "- **protected** : within the class and its sub-class protected member can be accessed(_).\n",
        "\n",
        "9. **What is a constructor in Python?**\n",
        "- A constructor is the __init__ method, automatically called when an object is created.\n",
        "\n",
        "10. **What are class and static methods in Python?**\n",
        "- **Class method** : in class method we can access/modify methods and attributes accosiated to class,bound to class not to a prticular instance of class.\n",
        "- **Static method** : it doesn't modify/access class or instance state , it doesn't depend upon class or instance.\n",
        "\n",
        "11. **What is method overloading in Python?**\n",
        "-  When any method is an alternative of  the any other method so it is called overloading of methods, Python doesn't support traditional overloading, but you can simulate it using default arguments.\n",
        "\n",
        "12. **What is method overriding in OOP?**\n",
        "- Method in parent class and child class with same signature , the child class method will be execuded.\n",
        "\n",
        "13. **What is a property decorator in Python?**\n",
        "- It allows the method to be accessed as attribute/property/data used to create read-only or controlled-access attributes.\n",
        "\n",
        "14. **Why is polymorphism important in OOP?**\n",
        "- It provide flexibility and resablity that we can call same method on different object.\n",
        "\n",
        "15. **What is an abstract class in Python?**\n",
        "- Abstraction can be achived by using abstract class for which we need to import abc module.\n",
        "\n",
        "16. **What are the advantages of OOP?**\n",
        "- These are the advantages of oops:-\n",
        "    - Maintainability\n",
        "    - Reusability\n",
        "    - Modularity\n",
        "    - Scalability\n",
        "\n",
        "17. **What is the difference between a class variable and an instance variable?**\n",
        "- **Class variable**: Shared across all instances.\n",
        "- **Instance variable**: Unique to each object.\n",
        "\n",
        "18. **What is multiple inheritance in Python?**\n",
        "- When child class is having more then one parent class inheritance.\n",
        "\n",
        "19. **Explain the purpose of ‘’__str__’ and ‘__repr__’ ‘ methods in Python.**\n",
        "- __str__ are User-friendly representation.\n",
        "- __repr__ are Developer-friendly, unambiguous.\n",
        "\n",
        "20. **What is the significance of the ‘super()’ function in Python?**\n",
        "- Super() is used to call parent class method in child class.\n",
        "\n",
        "21. **What is the significance of the __del__ method in Python?**\n",
        "- We Call __del__ method when an object is deleted. Rarely used , used for cleanup.\n",
        "\n",
        "22. **What is the difference between @staticmethod and @classmethod in Python?**\n",
        "- **Staticmethod** : No access to class or instance (self, cls).\n",
        "- **Classmethod** : Access to the class (cls).\n",
        "\n",
        "23. **How does polymorphism work in Python with inheritance?**\n",
        "- There are two methods by which polymorphism works :-\n",
        "    - **Overloading** : Overloading doesn't support in python.\n",
        "    - **overriding** : Method in parent class and child class with same signature , the child class method will be execuded.\n",
        "\n",
        "24. **What is method chaining in Python OOP?**\n",
        "- Chaining is the the mothod when we call multipule methods in one line.\n",
        "\n",
        "25. **What is the purpose of the __call__ method in Python?**\n",
        "- __call__ is used when we want to make a object like a function which is callable."
      ]
    },
    {
      "cell_type": "markdown",
      "metadata": {
        "id": "upyxKDYNmNV2"
      },
      "source": []
    },
    {
      "cell_type": "markdown",
      "metadata": {
        "id": "iVO_TgYSmNV3"
      },
      "source": [
        "# Pratical Questions\n"
      ]
    },
    {
      "cell_type": "code",
      "execution_count": null,
      "metadata": {
        "id": "k5Mp45ULmNV4",
        "outputId": "21d5f374-43d3-4015-dd1d-525b64941a9d"
      },
      "outputs": [
        {
          "name": "stdout",
          "output_type": "stream",
          "text": [
            "Bark!\n"
          ]
        }
      ],
      "source": [
        "# 1. Create a parent class Animal with a method speak() that prints a generic message. Create a child class Dog that overrides the speak() method to print \"Bark!\".\n",
        "class Animal:\n",
        "    def speak(self):\n",
        "        print(\"The animal makes a sound.\")\n",
        "\n",
        "class Dog(Animal):\n",
        "    def speak(self):\n",
        "        print(\"Bark!\")\n",
        "\n",
        "d = Dog()\n",
        "d.speak()"
      ]
    },
    {
      "cell_type": "code",
      "execution_count": null,
      "metadata": {
        "id": "Qv7DHC8ymNV8",
        "outputId": "b411b6d7-221d-4841-d803-8733133da5f5"
      },
      "outputs": [
        {
          "name": "stdout",
          "output_type": "stream",
          "text": [
            "Circle Area: 78.53981633974483\n",
            "Rectangle Area: 24\n"
          ]
        }
      ],
      "source": [
        "#2.  Write a program to create an abstract class Shape with a method area(). Derive classes Circle and Rectangle from it and implement the area() method in both.\n",
        "from abc import ABC, abstractmethod\n",
        "import math\n",
        "\n",
        "class Shape(ABC):\n",
        "    @abstractmethod\n",
        "    def area(self):\n",
        "        pass\n",
        "\n",
        "class Circle(Shape):\n",
        "    def __init__(self, radius):\n",
        "        self.radius = radius\n",
        "\n",
        "    def area(self):\n",
        "        return math.pi * self.radius * self.radius\n",
        "\n",
        "class Rectangle(Shape):\n",
        "    def __init__(self, length, width):\n",
        "        self.length = length\n",
        "        self.width = width\n",
        "\n",
        "    def area(self):\n",
        "        return self.length * self.width\n",
        "\n",
        "c = Circle(5)\n",
        "r = Rectangle(4, 6)\n",
        "print(\"Circle Area:\", c.area())\n",
        "print(\"Rectangle Area:\", r.area())"
      ]
    },
    {
      "cell_type": "code",
      "execution_count": null,
      "metadata": {
        "id": "qB07vwtGmNV-",
        "outputId": "c8351c44-e2c9-4f14-f44f-16a6b2a65036"
      },
      "outputs": [
        {
          "name": "stdout",
          "output_type": "stream",
          "text": [
            "car\n",
            "tata motors\n",
            "225kwh\n"
          ]
        }
      ],
      "source": [
        "#3.  Implement a multi-level inheritance scenario where a class Vehicle has an attribute type. Derive a class Car and further derive a class ElectricCar that adds a battery attribute.\n",
        "class Vehicle:\n",
        "    def __init__(self, type):\n",
        "        self.type = type\n",
        "\n",
        "class Car(Vehicle):\n",
        "    def __init__(self, type, brand):\n",
        "        self.type = type\n",
        "        self.brand = brand\n",
        "\n",
        "class ElectricCar(Car):\n",
        "    def __init__(self, type, brand, battery):\n",
        "        self.type = type\n",
        "        self.brand = brand\n",
        "        self.battery = battery\n",
        "\n",
        "ev_car = ElectricCar(\"car\",\"tata motors\",\"225kwh\")\n",
        "print(ev_car.type)\n",
        "print(ev_car.brand)\n",
        "print(ev_car.battery)"
      ]
    },
    {
      "cell_type": "code",
      "execution_count": null,
      "metadata": {
        "id": "l_NExrxtmNV_",
        "outputId": "dbd5cf46-9484-4474-829c-59f8224dfb3e"
      },
      "outputs": [
        {
          "name": "stdout",
          "output_type": "stream",
          "text": [
            "bird is flying\n",
            "sparrow fly's high\n",
            "pengiun can't fly\n"
          ]
        }
      ],
      "source": [
        "#4. Demonstrate polymorphism by creating a base class Bird with a method fly(). Create two derived classes Sparrow and Penguin that override the fly() method.\n",
        "class bird:\n",
        "    def fly(self):\n",
        "        print(\"bird is flying\")\n",
        "\n",
        "class sparrow(bird):\n",
        "    def fly(self):\n",
        "        print(\"sparrow fly's high\")\n",
        "\n",
        "class penguin(bird):\n",
        "    def fly(self):\n",
        "        print(\"pengiun can't fly\")\n",
        "\n",
        "b = bird()\n",
        "s = sparrow()\n",
        "p = penguin()\n",
        "\n",
        "b.fly()\n",
        "s.fly()\n",
        "p.fly()"
      ]
    },
    {
      "cell_type": "code",
      "execution_count": null,
      "metadata": {
        "id": "iakPddLLmNWA",
        "outputId": "d0e6195b-9378-4bed-f356-cb436762c052"
      },
      "outputs": [
        {
          "data": {
            "text/plain": [
              "8000"
            ]
          },
          "execution_count": 7,
          "metadata": {},
          "output_type": "execute_result"
        }
      ],
      "source": [
        "#5. Write a program to demonstrate encapsulation by creating a class BankAccount with private attributes balance and methods to deposit, withdraw, and check balance.\n",
        "\n",
        "class bank_account:\n",
        "    def __init__(self,balance):\n",
        "        self.__balance = balance\n",
        "\n",
        "    def deposit(self,amount):\n",
        "        if amount>0:\n",
        "            self.__balance = self.__balance+amount\n",
        "        else:\n",
        "            print(\" enter a valid amount\")\n",
        "\n",
        "    def withdraw(self,amount):\n",
        "         if amount<= self.__balance:\n",
        "             self.__balance = self.__balance-amount\n",
        "         else:\n",
        "             print(\" balance is not sufficient to withdraw this amount\")\n",
        "\n",
        "    def get_balance(self):\n",
        "          return self.__balance\n",
        "\n",
        "account1 = bank_account(3000)\n",
        "account1.deposit(10000)\n",
        "account1.withdraw(5000)\n",
        "account1.get_balance()\n",
        ""
      ]
    },
    {
      "cell_type": "code",
      "execution_count": null,
      "metadata": {
        "id": "Hyx2lQZdmNWC",
        "outputId": "7b32b960-d0fa-461c-c2e6-68553cde6d20"
      },
      "outputs": [
        {
          "name": "stdout",
          "output_type": "stream",
          "text": [
            "Now all instruments is playing music\n",
            "Guitar is playing C-Sharp\n",
            "Piano is playing G-Minor\n"
          ]
        }
      ],
      "source": [
        "#6. Demonstrate runtime polymorphism using a method play() in a base class Instrument. Derive classes Guitar and Piano that implement their own version of play()\n",
        "\n",
        "class instrument:\n",
        "    def play(self):\n",
        "        print(\"Now all instruments is playing music\")\n",
        "\n",
        "class guitar(instrument):\n",
        "    def play(self):\n",
        "        print(\"Guitar is playing C-Sharp\")\n",
        "\n",
        "class piano(instrument):\n",
        "    def play(self):\n",
        "        print(\"Piano is playing G-Minor\")\n",
        "\n",
        "i = instrument()\n",
        "g =guitar()\n",
        "p = piano()\n",
        "\n",
        "i.play()\n",
        "g.play()\n",
        "p.play()"
      ]
    },
    {
      "cell_type": "code",
      "execution_count": null,
      "metadata": {
        "id": "hh1nrMxRmNWE",
        "outputId": "83c05590-c2c0-4fc4-9cd6-c11a7a514c1c"
      },
      "outputs": [
        {
          "name": "stdout",
          "output_type": "stream",
          "text": [
            "Addition : 22\n",
            "Subtraction : 7\n"
          ]
        }
      ],
      "source": [
        "#7. Create a class MathOperations with a class method add_numbers() to add two numbers and a static method subtract_numbers() to subtract two numbers.\n",
        "\n",
        "class MathOperations:\n",
        "    @classmethod\n",
        "    def add_num(cls,a,b):\n",
        "        return a+b\n",
        "    @staticmethod\n",
        "    def subtract_num(a,b):\n",
        "        return a-b\n",
        "\n",
        "print(\"Addition :\",MathOperations.add_num(10,12))\n",
        "print(\"Subtraction :\" ,MathOperations.subtract_num(20,13))"
      ]
    },
    {
      "cell_type": "code",
      "execution_count": null,
      "metadata": {
        "id": "BLQyCuWgmNWG",
        "outputId": "1d9f5790-02c9-48e2-b36e-67a012670db3"
      },
      "outputs": [
        {
          "name": "stdout",
          "output_type": "stream",
          "text": [
            "Total no. of persons : 4\n"
          ]
        }
      ],
      "source": [
        "#8. Implement a class Person with a class method to count the total number of persons created.\n",
        "\n",
        "class person:\n",
        "    no_of_person = 0\n",
        "\n",
        "    def __init__(self,name):\n",
        "        self.name = name\n",
        "        person.no_of_person=person.no_of_person+1\n",
        "\n",
        "    @classmethod\n",
        "    def total_persons(cls):\n",
        "        return cls.no_of_person\n",
        "\n",
        "p1 = person(\"amit\")\n",
        "p2 = person(\"ajit\")\n",
        "p3 = person(\"sandhya\")\n",
        "p4 = person(\"khushi\")\n",
        "\n",
        "print(\"Total no. of persons :\", person.total_persons())"
      ]
    },
    {
      "cell_type": "code",
      "execution_count": null,
      "metadata": {
        "id": "NNh6P159mNWG",
        "outputId": "cd3b4e93-8ca0-4e7a-a3c2-66de2fbaaa51"
      },
      "outputs": [
        {
          "name": "stdout",
          "output_type": "stream",
          "text": [
            "Fraction is : 10/15\n"
          ]
        }
      ],
      "source": [
        "#9. Write a class Fraction with attributes numerator and denominator. Override the str method to display the fraction as \"numerator/denominator\".\n",
        "\n",
        "class fraction:\n",
        "    def __init__(self,numerator,denominator):\n",
        "        self.numerator=numerator\n",
        "        self.denominator=denominator\n",
        "\n",
        "    def __str__(self):\n",
        "        return (f\"{self.numerator}/{self.denominator}\")\n",
        "\n",
        "\n",
        "f1 = fraction(10,15)\n",
        "print(\"Fraction is :\",f1)"
      ]
    },
    {
      "cell_type": "code",
      "execution_count": null,
      "metadata": {
        "id": "q5-vSlXkmNWH",
        "outputId": "36787c4c-5391-4c3e-e517-0da7a6bc8a2b"
      },
      "outputs": [
        {
          "name": "stdout",
          "output_type": "stream",
          "text": [
            "Vector addition is : 33 , 32 \n"
          ]
        }
      ],
      "source": [
        "#10. Demonstrate operator overloading by creating a class Vector and overriding the add method to add two vectors.\n",
        "\n",
        "class vector:\n",
        "    def __init__(self,x,y):\n",
        "        self.x=x\n",
        "        self.y=y\n",
        "\n",
        "    def __add__(self,other):\n",
        "        return vector(self.x+other.x , self.y+other.y)\n",
        "\n",
        "    def __str__(self):\n",
        "        return (f\"{self.x} , {self.y} \")\n",
        "\n",
        "v1 = vector(10,20)\n",
        "v2 = vector(23,12)\n",
        "v3 = (v1+v2)\n",
        "print(\"Vector addition is :\",v3)"
      ]
    },
    {
      "cell_type": "code",
      "execution_count": null,
      "metadata": {
        "id": "qE1-8qqHmNWI",
        "outputId": "11308270-01ba-42d0-9c26-8e54f8077d92"
      },
      "outputs": [
        {
          "name": "stdout",
          "output_type": "stream",
          "text": [
            " Hello, my name is Shanu Gupta and I am 22 years old.\n",
            " Hello, my name is Dev Chauhan and I am 22 years old.\n"
          ]
        }
      ],
      "source": [
        "#11. Create a class Person with attributes name and age. Add a method greet() that prints \"Hello, my name is {name} and I am {age} years old.\"\n",
        "\n",
        "\n",
        "class person:\n",
        "    def __init__(self,name , age):\n",
        "        self.name=name\n",
        "        self.age=age\n",
        "    def greet(self):\n",
        "        return (F\" Hello, my name is {self.name} and I am {self.age} years old.\")\n",
        "\n",
        "p1 = person(\"Shanu Gupta\",22)\n",
        "p2 = person(\"Dev Chauhan\",22)\n",
        "print(p1.greet())\n",
        "print(p2.greet())"
      ]
    },
    {
      "cell_type": "code",
      "execution_count": null,
      "metadata": {
        "id": "SYTUmW-SmNWJ",
        "outputId": "f0d0b7b6-30fb-40bf-df5d-15658eaa6587"
      },
      "outputs": [
        {
          "name": "stdout",
          "output_type": "stream",
          "text": [
            "My name is Shanu Gupta my avg. grades is 66.66666666666667 \n",
            "My name is Dev Chauhan my avg. grades is 86.0 \n"
          ]
        }
      ],
      "source": [
        "#12. Implement a class Student with attributes name and grades. Create a method average_grade() to compute the average of the grades.\n",
        "\n",
        "class student:\n",
        "    def __init__(self,name,grades):\n",
        "        self.name=name\n",
        "        self.grades=grades\n",
        "\n",
        "    def avg_grades(self):\n",
        "        if self.grades:\n",
        "            return sum(self.grades)/len(self.grades)\n",
        "        return 0\n",
        "\n",
        "s1 = student(\"Shanu Gupta\",[55,67,78])\n",
        "s2 = student(\"Dev Chauhan\",[78,89,91])\n",
        "\n",
        "print(f\"My name is {s1.name} my avg. grades is {s1.avg_grades()} \")\n",
        "print(f\"My name is {s2.name} my avg. grades is {s2.avg_grades()} \")"
      ]
    },
    {
      "cell_type": "code",
      "execution_count": null,
      "metadata": {
        "id": "umFnjoX3mNWJ",
        "outputId": "1bbb7282-e96c-44df-a1ba-0b78c7c14360"
      },
      "outputs": [
        {
          "name": "stdout",
          "output_type": "stream",
          "text": [
            "Area of r1 rectangle : 168\n",
            "Area of r2 rectangle : 117\n"
          ]
        }
      ],
      "source": [
        "#13. Create a class Rectangle with methods set_dimensions() to set the dimensions and area() to calculate the area.\n",
        "\n",
        "class rectangle:\n",
        "    def __init__(self,l,b):\n",
        "        self.l=l\n",
        "        self.b=b\n",
        "    def area_rectangle(self):\n",
        "        return self.l*self.b\n",
        "\n",
        "r1 = rectangle(12,14)\n",
        "r2 = rectangle(9,13)\n",
        "print(\"Area of r1 rectangle :\",r1.area_rectangle())\n",
        "print(\"Area of r2 rectangle :\",r2.area_rectangle())"
      ]
    },
    {
      "cell_type": "code",
      "execution_count": null,
      "metadata": {
        "id": "6PuJCta4mNWJ",
        "outputId": "571dd45d-a78a-46d5-c453-64d69fbd9db5"
      },
      "outputs": [
        {
          "name": "stdout",
          "output_type": "stream",
          "text": [
            "Employee's salary : 100000\n",
            "Manager's salary : 150000\n"
          ]
        }
      ],
      "source": [
        "#14. Create a class Employee with a method calculate_salary() that computes the salary based on hours worked and hourly rate. Create a derived class Manager that adds a bonus to the salary.\n",
        "\n",
        "class employee:\n",
        "    def __init__(self,name,rate,hours):\n",
        "        self.name=name\n",
        "        self.rate=rate\n",
        "        self.hours=hours\n",
        "    def cal_salary(self):\n",
        "        return self.rate*self.hours\n",
        "\n",
        "class manager(employee):\n",
        "    def __init__(self,name,rate,hours,bouns):\n",
        "        self.name=name\n",
        "        self.rate=rate\n",
        "        self.hours=hours\n",
        "        self.bouns=bouns\n",
        "    def cal_salary(self):\n",
        "        return ((self.rate*self.hours)+self.bouns)\n",
        "\n",
        "e = employee(\"Shanu Gupta\",250,400)\n",
        "m = manager(\"Dev Chauhan\",400,350,10000)\n",
        "print(\"Employee's salary :\" ,e.cal_salary())\n",
        "print(\"Manager's salary :\",m.cal_salary())"
      ]
    },
    {
      "cell_type": "code",
      "execution_count": null,
      "metadata": {
        "id": "lOU7oUczmNWK",
        "outputId": "3b90a117-ac3b-4c07-ae8d-687e43cc7df6"
      },
      "outputs": [
        {
          "name": "stdout",
          "output_type": "stream",
          "text": [
            "Total price for clay bottle : 9975 \n",
            "Total price for ceramic plates : 14175 \n",
            "Total price for ceramic mugs : 18800 \n"
          ]
        }
      ],
      "source": [
        "#15. Create a class Product with attributes name, price, and quantity. Implement a method total_price() that calculates the total price of the product.\n",
        "\n",
        "class product:\n",
        "    def __init__(self,pro_name,price,quantity):\n",
        "        self.pro_name=pro_name\n",
        "        self.price=price\n",
        "        self.quantity=quantity\n",
        "    def cal_total_price(self):\n",
        "        return self.quantity*self.price\n",
        "\n",
        "p1 = product(\"clay bottle\",399,25)\n",
        "p2 =product(\"ceramic plates\",189,75)\n",
        "p3 = product(\"ceramic mugs\",235,80)\n",
        "\n",
        "print(f\"Total price for {p1.pro_name} : {p1.cal_total_price()} \")\n",
        "print(f\"Total price for {p2.pro_name} : {p2.cal_total_price()} \")\n",
        "print(f\"Total price for {p3.pro_name} : {p3.cal_total_price()} \")"
      ]
    },
    {
      "cell_type": "code",
      "execution_count": null,
      "metadata": {
        "id": "WiyeQdKjmNWK",
        "outputId": "926e09ca-41e5-4487-c22e-23e1ef4a0ac0"
      },
      "outputs": [
        {
          "name": "stdout",
          "output_type": "stream",
          "text": [
            "Cow makes sound like : mwoo\n",
            "Sheep makes sound like : meehhee\n"
          ]
        }
      ],
      "source": [
        "#16. Create a class Animal with an abstract method sound(). Create two derived classes Cow and Sheep that implement the sound() method.\n",
        "\n",
        "import abc\n",
        "\n",
        "class animal:\n",
        "    @abstractmethod\n",
        "    def sound(self):\n",
        "        pass\n",
        "\n",
        "class cow(animal):\n",
        "    def sound(self):\n",
        "        return \"mwoo\"\n",
        "\n",
        "class sheep(animal):\n",
        "    def sound(self):\n",
        "        return \"meehhee\"\n",
        "cow=cow()\n",
        "sheep=sheep()\n",
        "print(\"Cow makes sound like :\",cow.sound())\n",
        "print(\"Sheep makes sound like :\",sheep.sound())"
      ]
    },
    {
      "cell_type": "code",
      "execution_count": null,
      "metadata": {
        "id": "vaSR9lKomNWL",
        "outputId": "6ccfcf57-bd19-47c2-e981-43792fc971ac"
      },
      "outputs": [
        {
          "name": "stdout",
          "output_type": "stream",
          "text": [
            "Book name :Gunaho ka devta\n",
            "Author name :Dharmveer bharti\n",
            "Year of published :1949 \n",
            "Book name :Psychology of money\n",
            "Author name :Morgan housel\n",
            "Year of published :2020 \n"
          ]
        }
      ],
      "source": [
        "#17. Create a class Book with attributes title, author, and year_published. Add a method get_book_info() that returns a formatted string with the book's details.\n",
        "\n",
        "class book:\n",
        "    def __init__(self,title,author,year_published):\n",
        "        self.title=title\n",
        "        self.author=author\n",
        "        self.year_published=year_published\n",
        "    def get_book_info(self):\n",
        "        return (f\"Book name :{self.title}\\nAuthor name :{self.author}\\nYear of published :{self.year_published} \")\n",
        "\n",
        "b1 = book(\"Gunaho ka devta\",\"Dharmveer bharti\",1949)\n",
        "b2 = book(\"Psychology of money\",\"Morgan housel\",2020)\n",
        "print(b1.get_book_info())\n",
        "print(b2.get_book_info())"
      ]
    },
    {
      "cell_type": "code",
      "execution_count": null,
      "metadata": {
        "id": "tDyHAhiRmNWL",
        "outputId": "a2b421e7-e20a-4887-c57c-bf46ace1ed65"
      },
      "outputs": [
        {
          "name": "stdout",
          "output_type": "stream",
          "text": [
            "Address : western lane 5th avenue\n",
            "No. of rooms : 5\n",
            "Price :  15000000\n"
          ]
        }
      ],
      "source": [
        "#18. Create a class House with attributes address and price. Create a derived class Mansion that adds an attribute number_of_rooms.\n",
        "\n",
        "class house:\n",
        "    def __init__(self,address,price):\n",
        "        self.address=address\n",
        "        self.price=price\n",
        "\n",
        "class mansion(house):\n",
        "    def __init__(self,address,price,no_of_rooms):\n",
        "        self.address=address\n",
        "        self.price=price\n",
        "        self.no_of_rooms=no_of_rooms\n",
        "\n",
        "m = mansion(\"western lane 5th avenue\",15000000,5)\n",
        "print(\"Address :\",m.address)\n",
        "print(\"No. of rooms :\",m.no_of_rooms)\n",
        "print(\"Price : \",m.price)"
      ]
    }
  ],
  "metadata": {
    "kernelspec": {
      "display_name": "Python 3",
      "language": "python",
      "name": "python3"
    },
    "language_info": {
      "codemirror_mode": {
        "name": "ipython",
        "version": 3
      },
      "file_extension": ".py",
      "mimetype": "text/x-python",
      "name": "python",
      "nbconvert_exporter": "python",
      "pygments_lexer": "ipython3",
      "version": "3.13.2"
    },
    "colab": {
      "provenance": []
    }
  },
  "nbformat": 4,
  "nbformat_minor": 0
}